{
 "cells": [
  {
   "cell_type": "raw",
   "id": "0efae1e7-7545-449e-99ab-c04cd7684c42",
   "metadata": {},
   "source": [
    "Q1. Create one variable containing following type of data:\n",
    "(i) string\n",
    "(ii) list\n",
    "(iii) float\n",
    "(iv) tuple"
   ]
  },
  {
   "cell_type": "code",
   "execution_count": 6,
   "id": "2d915e4f-2794-48f2-94a8-849220634f5c",
   "metadata": {},
   "outputs": [],
   "source": [
    "my_string =\"hello world\""
   ]
  },
  {
   "cell_type": "code",
   "execution_count": 7,
   "id": "c7882739-3272-4751-9385-9133aa2fe94b",
   "metadata": {},
   "outputs": [],
   "source": [
    "my_list = [1,2,3,4,5]"
   ]
  },
  {
   "cell_type": "code",
   "execution_count": 8,
   "id": "6f4ae864-2ab3-451b-85cf-745e1b0e918e",
   "metadata": {},
   "outputs": [],
   "source": [
    "my_float = 1.45634"
   ]
  },
  {
   "cell_type": "code",
   "execution_count": 10,
   "id": "430461a9-68ec-4f10-8001-c76ca9eec5e6",
   "metadata": {},
   "outputs": [],
   "source": [
    "my_tuple = (4,5,5,)"
   ]
  },
  {
   "cell_type": "raw",
   "id": "951b78ed-cf72-4956-b14a-9e59a71fd9a6",
   "metadata": {},
   "source": [
    "Q2. Given are some following variables containing data:\n",
    "(i) var1 = ‘ ‘\n",
    "(ii) var2 = ‘[ DS , ML , Python]’\n",
    "(iii) var3 = [ ‘DS’ , ’ML’ , ‘Python’ ]\n",
    "(iv) var4 = 1.\n",
    "What will be the data type of the above given variable."
   ]
  },
  {
   "cell_type": "raw",
   "id": "68a9116c-8f47-4f73-88b3-693c087908b2",
   "metadata": {},
   "source": [
    "(i) var1 has a value of ' ', which is an empty string. Therefore, the data type of var1 is str (string).\n",
    "\n",
    "(ii) var2 has a value of '[ DS , ML , Python]', which is a string that represents a list. However, it is not a valid Python list syntax as the elements are not enclosed in quotes. Therefore, the data type of var2 is still str (string).\n",
    "\n",
    "(iii) var3 has a value of ['DS', 'ML', 'Python'], which is a list containing three string elements. Hence, the data type of var3 is list.\n",
    "\n",
    "(iv) var4 has a value of 1., which is a floating-point number. Therefore, the data type of var4 is float.\n",
    "\n",
    "To summarize:\n",
    "\n",
    "var1 is of type str (string).\n",
    "var2 is of type str (string).\n",
    "var3 is of type list.\n",
    "var4 is of type float.\n",
    "\n",
    "\n",
    "\n",
    "\n"
   ]
  },
  {
   "cell_type": "raw",
   "id": "4b9b4b19-5719-409d-888a-a36490909d9d",
   "metadata": {},
   "source": [
    "Q3. Explain the use of the following operators using an example:\n",
    "(i) /\n",
    "(ii) %\n",
    "(iii) //\n",
    "(iv) **"
   ]
  },
  {
   "cell_type": "raw",
   "id": "edfc96bf-b9c7-4819-b962-2dacfc62bd37",
   "metadata": {},
   "source": [
    "(i) / (Division Operator): The division operator / is used to perform division between two numbers and obtain the quotient as a floating-point number.\n",
    "\n",
    "Example:"
   ]
  },
  {
   "cell_type": "code",
   "execution_count": 15,
   "id": "f66f90d3-42fb-4be0-8b81-adff700b76d1",
   "metadata": {},
   "outputs": [
    {
     "name": "stdout",
     "output_type": "stream",
     "text": [
      "3.3333333333333335\n"
     ]
    }
   ],
   "source": [
    "a = 10\n",
    "b = 3\n",
    "result = a / b\n",
    "print(result)  # Output: 3.3333333333333335\n"
   ]
  },
  {
   "cell_type": "raw",
   "id": "24f5670d-355e-4a13-a0c9-7523add4476c",
   "metadata": {},
   "source": [
    "(ii) % (Modulo Operator): The modulo operator % is used to obtain the remainder after division between two numbers.\n",
    "\n",
    "Example:"
   ]
  },
  {
   "cell_type": "code",
   "execution_count": 17,
   "id": "9447cf38-0dbe-460f-a2a0-4b96e9b72009",
   "metadata": {},
   "outputs": [
    {
     "name": "stdout",
     "output_type": "stream",
     "text": [
      "1\n"
     ]
    }
   ],
   "source": [
    "a = 10\n",
    "b = 3\n",
    "result = a % b\n",
    "print(result)\n"
   ]
  },
  {
   "cell_type": "raw",
   "id": "94a9c7ef-29ac-4ee9-9198-6e520589540a",
   "metadata": {},
   "source": [
    "(iii) // (Floor Division Operator): The floor division operator // performs division between two numbers and rounds down the result to the nearest integer.\n",
    "\n",
    "Example:"
   ]
  },
  {
   "cell_type": "code",
   "execution_count": 18,
   "id": "1c454b03-d6f3-47fa-a277-61bbfae61073",
   "metadata": {},
   "outputs": [
    {
     "name": "stdout",
     "output_type": "stream",
     "text": [
      "3\n"
     ]
    }
   ],
   "source": [
    "a = 10\n",
    "b = 3\n",
    "result = a // b\n",
    "print(result)\n"
   ]
  },
  {
   "cell_type": "raw",
   "id": "b1784b3a-c359-43b7-9569-cb18a7e4414a",
   "metadata": {},
   "source": [
    "(iv) ** (Exponentiation Operator): The exponentiation operator ** is used to raise a number to the power of another number.\n",
    "\n",
    "Example:"
   ]
  },
  {
   "cell_type": "code",
   "execution_count": 19,
   "id": "d0c11877-fc85-4e08-8f33-49e49fec106d",
   "metadata": {},
   "outputs": [
    {
     "name": "stdout",
     "output_type": "stream",
     "text": [
      "8\n"
     ]
    }
   ],
   "source": [
    "a = 2\n",
    "b = 3\n",
    "result = a ** b\n",
    "print(result)\n"
   ]
  },
  {
   "cell_type": "raw",
   "id": "40a4e0f0-3edb-48c2-a7eb-b02aca4c887e",
   "metadata": {},
   "source": [
    "Q4. Create a list of length 10 of your choice containing multiple types of data. Using for loop print the\n",
    "element and its data type."
   ]
  },
  {
   "cell_type": "code",
   "execution_count": 29,
   "id": "57d59f1d-1097-49bf-957a-34be9f518820",
   "metadata": {},
   "outputs": [],
   "source": [
    "my_list = [1, 2.5, 'Hello', True, [1, 2, 3], (4, 5, 6), {'name': 'risan', 'age': 25}, None, 3+4j, False]"
   ]
  },
  {
   "cell_type": "code",
   "execution_count": 32,
   "id": "b01c3a56-3852-4e91-bba1-95e89c53ee7a",
   "metadata": {},
   "outputs": [
    {
     "name": "stdout",
     "output_type": "stream",
     "text": [
      "Element: 1 \t| Data Type: <class 'int'>\n",
      "Element: 2.5 \t| Data Type: <class 'float'>\n",
      "Element: Hello \t| Data Type: <class 'str'>\n",
      "Element: True \t| Data Type: <class 'bool'>\n",
      "Element: [1, 2, 3] \t| Data Type: <class 'list'>\n",
      "Element: (4, 5, 6) \t| Data Type: <class 'tuple'>\n",
      "Element: {'name': 'risan', 'age': 25} \t| Data Type: <class 'dict'>\n",
      "Element: None \t| Data Type: <class 'NoneType'>\n",
      "Element: (3+4j) \t| Data Type: <class 'complex'>\n",
      "Element: False \t| Data Type: <class 'bool'>\n"
     ]
    }
   ],
   "source": [
    "for element in my_list:\n",
    "    print(f\"Element: {element} \\t| Data Type: {type(element)}\")\n"
   ]
  },
  {
   "cell_type": "raw",
   "id": "282fb788-acc6-4d47-8c65-847de0a5ffca",
   "metadata": {},
   "source": [
    "Q5. Using a while loop, verify if the number A is purely divisible by number B and if so then how many\n",
    "times it can be divisible."
   ]
  },
  {
   "cell_type": "code",
   "execution_count": 33,
   "id": "934a2cb1-f9fd-48fd-a05d-67d2d4856736",
   "metadata": {},
   "outputs": [
    {
     "name": "stdout",
     "output_type": "stream",
     "text": [
      "Number A is divisible by number B 1 times.\n"
     ]
    }
   ],
   "source": [
    "A = 36\n",
    "B = 4\n",
    "count = 0\n",
    "\n",
    "while A % B == 0:\n",
    "    A = A / B\n",
    "    count += 1\n",
    "\n",
    "print(f\"Number A is divisible by number B {count} times.\")\n"
   ]
  },
  {
   "cell_type": "raw",
   "id": "563916df-2fdf-4ab7-a15b-ebe43e983782",
   "metadata": {},
   "source": [
    "Q6. Create a list containing 25 int type data. Using for loop and if-else condition print if the element is\n",
    "divisible by 3 or not."
   ]
  },
  {
   "cell_type": "code",
   "execution_count": 34,
   "id": "d44274fc-b142-4457-8b17-ce44f43f124b",
   "metadata": {},
   "outputs": [
    {
     "name": "stdout",
     "output_type": "stream",
     "text": [
      "{element} is not divisible by 3\n",
      "{element} is divisible by 3\n",
      "{element} is not divisible by 3\n",
      "{element} is divisible by 3\n",
      "{element} is divisible by 3\n",
      "{element} is divisible by 3\n",
      "{element} is divisible by 3\n",
      "{element} is not divisible by 3\n",
      "{element} is not divisible by 3\n",
      "{element} is divisible by 3\n",
      "{element} is divisible by 3\n",
      "{element} is not divisible by 3\n",
      "{element} is not divisible by 3\n",
      "{element} is divisible by 3\n",
      "{element} is not divisible by 3\n",
      "{element} is not divisible by 3\n",
      "{element} is not divisible by 3\n",
      "{element} is divisible by 3\n",
      "{element} is not divisible by 3\n",
      "{element} is not divisible by 3\n",
      "{element} is divisible by 3\n",
      "{element} is not divisible by 3\n",
      "{element} is not divisible by 3\n",
      "{element} is not divisible by 3\n",
      "{element} is divisible by 3\n"
     ]
    }
   ],
   "source": [
    "my_list = [4, 12, 7, 21, 15, 9, 18, 10, 28, 33, 6, 13, 19, 30, 22, 16, 25, 36, 8, 14, 27, 32, 11, 20, 24]\n",
    "\n",
    "for element in my_list:\n",
    "    if element % 3 == 0:\n",
    "        print(\"{element} is divisible by 3\")\n",
    "    else:\n",
    "        print(\"{element} is not divisible by 3\")\n"
   ]
  },
  {
   "cell_type": "raw",
   "id": "aad690df-251d-48d4-b771-8ea416d710fc",
   "metadata": {},
   "source": [
    "Q7. What do you understand about mutable and immutable data types? Give examples for both showing\n",
    "this property."
   ]
  },
  {
   "cell_type": "raw",
   "id": "1891c330-5ffa-48c9-9b20-851da7be9bb9",
   "metadata": {},
   "source": [
    "Mutable and immutable are two fundamental concepts in programming that describe whether a data type can be modified (mutable) or not (immutable) after it is created. Let's understand these concepts further and provide examples for both mutable and immutable data types:\n",
    "\n",
    "Immutable Data Types:\n",
    "\n",
    "Immutable data types are those whose values cannot be changed after they are created. If you try to modify an immutable object, a new object is created instead.\n",
    "Examples of immutable data types in Python include integers (int), floating-point numbers (float), booleans (bool), strings (str), and tuples (tuple)."
   ]
  },
  {
   "cell_type": "code",
   "execution_count": 36,
   "id": "b2d998ed-63a2-47ae-b6db-4deae10a331e",
   "metadata": {},
   "outputs": [
    {
     "name": "stdout",
     "output_type": "stream",
     "text": [
      "Alice\n",
      "Alice Smith\n"
     ]
    }
   ],
   "source": [
    "# Example of an immutable data type: string\n",
    "name = \"Alice\"\n",
    "print(name) \n",
    "\n",
    "# Attempting to modify the string\n",
    "name += \" Smith\"\n",
    "print(name)  \n",
    "\n",
    "# The original string remains unchanged\n"
   ]
  },
  {
   "cell_type": "raw",
   "id": "8b887403-bbe4-465c-b962-e909174e8b88",
   "metadata": {},
   "source": [
    "In the above example, the string \"Alice\" is immutable. When we concatenate the string with \" Smith\", a new string \"Alice Smith\" is created. The original string \"Alice\" remains unchanged."
   ]
  },
  {
   "cell_type": "raw",
   "id": "dd0fe82a-a164-445c-ab1a-36733dda705f",
   "metadata": {},
   "source": [
    "Mutable Data Types:\n",
    "\n",
    "Mutable data types are those whose values can be modified after they are created. Modifications can be made directly to the object without creating a new object.\n",
    "Examples of mutable data types in Python include lists (list), dictionaries (dict), and sets (set)."
   ]
  },
  {
   "cell_type": "code",
   "execution_count": 39,
   "id": "10cd7d63-9dfa-4071-8f6d-79ac39966a9c",
   "metadata": {},
   "outputs": [
    {
     "name": "stdout",
     "output_type": "stream",
     "text": [
      "[1, 2, 3]\n",
      "[1, 2, 3, 4]\n"
     ]
    }
   ],
   "source": [
    "# Example of a mutable data type: list\n",
    "numbers = [1, 2, 3]\n",
    "print(numbers)\n",
    "\n",
    "# Modifying the list\n",
    "numbers.append(4)\n",
    "print(numbers)  \n",
    "\n",
    "\n"
   ]
  },
  {
   "cell_type": "raw",
   "id": "a129d5f9-96ac-4f51-b032-e48eaa56fd2c",
   "metadata": {},
   "source": [
    "In the above example, the list [1, 2, 3] is mutable. We can append the value 4 to the list directly using the append() method, modifying the original list."
   ]
  }
 ],
 "metadata": {
  "kernelspec": {
   "display_name": "Python 3 (ipykernel)",
   "language": "python",
   "name": "python3"
  },
  "language_info": {
   "codemirror_mode": {
    "name": "ipython",
    "version": 3
   },
   "file_extension": ".py",
   "mimetype": "text/x-python",
   "name": "python",
   "nbconvert_exporter": "python",
   "pygments_lexer": "ipython3",
   "version": "3.10.8"
  }
 },
 "nbformat": 4,
 "nbformat_minor": 5
}
